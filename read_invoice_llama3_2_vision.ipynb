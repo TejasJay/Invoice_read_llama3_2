{
 "cells": [
  {
   "cell_type": "code",
   "execution_count": null,
   "id": "fd2baa69-a96c-437d-99e6-d95d2adc555a",
   "metadata": {},
   "outputs": [],
   "source": [
    "#!ollama pull llama3.2-vision\n"
   ]
  },
  {
   "cell_type": "code",
   "execution_count": 2,
   "id": "54ac6987-1fa1-48dc-88f4-31c765df8c52",
   "metadata": {},
   "outputs": [
    {
     "name": "stdout",
     "output_type": "stream",
     "text": [
      "{ \"invoice_number\": \"2454\", \"date\": \"01/02/2016\", \"vendor_name\": \"Creative Media\", \"items\": [ { \"name\": \"Lorem Ipsum Dolor\", \"quantity\": 5, \"price\": 650.00 }, { \"name\": \"Pellentesque id neque ligula\", \"quantity\": 1, \"price\": 810.00 }, { \"name\": \"Interdum et malesuada fames\", \"quantity\": 3, \"price\": 525.00 }, { \"name\": \"Vivamus volutpat faucibus\", \"quantity\": 2, \"price\": 980.00 } ] , \"total\": 4050.00 }\n"
     ]
    }
   ],
   "source": [
    "from typing import List\n",
    "\n",
    "import ollama\n",
    "from pydantic import BaseModel\n",
    "\n",
    "class Item(BaseModel):\n",
    "    name: str\n",
    "    quantity: int\n",
    "    price: float\n",
    "\n",
    "class Invoice(BaseModel):\n",
    "    invoice_number: str\n",
    "    date: str\n",
    "    vendor_name: str\n",
    "    items: List[Item]\n",
    "    total: float\n",
    "\n",
    "def message(img):\n",
    "    messages=[\n",
    "            {\n",
    "                'role': 'user',\n",
    "                'content': \"\"\"Given an invoice image, Your task is to use OCR to detect and extract text, categorize it into predefined fields.\n",
    "                Invoice/Receipt Number: The unique identifier of the document.\n",
    "                Date: The issue or transaction date.\n",
    "                Vendor Name: The business or entity issuing the document.\n",
    "                Items: A list of purchased products or services with Name, Quantity and price.\"\"\",\n",
    "                'images': [f\"./images/{img}\"]\n",
    "            }\n",
    "        ]\n",
    "    return messages\n",
    "\n",
    "\n",
    "\n",
    "res = ollama.chat(\n",
    "    model=\"llama3.2-vision\",\n",
    "    messages=message('your_file.jpg'),\n",
    "    format=Invoice.model_json_schema(),\n",
    "    options={'temperature': 0}\n",
    ")\n",
    "\n",
    "print(res['message']['content'])"
   ]
  },
  {
   "cell_type": "code",
   "execution_count": 4,
   "id": "eba69784-a749-4aaf-81e1-03ff030be6e4",
   "metadata": {},
   "outputs": [
    {
     "name": "stdout",
     "output_type": "stream",
     "text": [
      "{ \"invoice_number\": \"PAT20-32\", \"date\": \"Monday - Friday 8:00 am to 5:00 pm\", \"vendor_name\": \"SpiffyJ\", \"items\": [ { \"name\": \"30\\\"x34\\\", 8\\\"x23\\\" wooden pantry cabinets\", \"quantity\": 3, \"price\": 590.0 }, { \"name\": \"18\\\"x39\\\" white quartzite countertop, polished\", \"quantity\": 1, \"price\": 1314.20 }, { \"name\": \"Double handle brass faucet\", \"quantity\": 1, \"price\": 295.00 }, { \"name\": \"Engineered locking 5\\\" hand distressed hardwood\", \"quantity\": 25, \"price\": 89.10 }, { \"name\": \"5\\\" center-to-center cabinet handle\", \"quantity\": 14, \"price\": 23.95 }, { \"name\": \"2\\\" drawer pulls\", \"quantity\": 9, \"price\": 15.50 }, { \"name\": \"18\\\" flush mount ceiling light\", \"quantity\": 2, \"price\": 285.00 }, { \"name\": \"6\\\"W x 7\\\"H white door keystone\", \"quantity\": 1, \"price\": 49.00 }, { \"name\": \"198\\\" L x 20\\\" W herringbone wallpaper, gray\", \"quantity\": 5, \"price\": 36.50 }, { \"name\": \"Black painted right-handed casement window\", \"quantity\": 1, \"price\": 146.00 }, { \"name\": \"3\\\" hexagon marble tile\", \"quantity\": 1, \"price\": 1257.90 }, { \"name\": \"Aged bronze handleset with accent lever\", \"quantity\": 1, \"price\": 198.00 }, { \"name\": \"6-light brass chandelier\", \"quantity\": 1, \"price\": 295.12 } ] , \"total\": 10874.52 }\n"
     ]
    }
   ],
   "source": [
    "res = ollama.chat(\n",
    "    model=\"llama3.2-vision\",\n",
    "    messages=message('inovice_2.jpg'),\n",
    "    format=Invoice.model_json_schema(),\n",
    "    options={'temperature': 0}\n",
    ")\n",
    "\n",
    "print(res['message']['content'])"
   ]
  },
  {
   "cell_type": "code",
   "execution_count": 7,
   "id": "605f92e7-2894-4495-a7c1-d40f47ea21ff",
   "metadata": {
    "scrolled": true
   },
   "outputs": [
    {
     "name": "stdout",
     "output_type": "stream",
     "text": [
      "**Invoice Document Analysis**\n",
      "\n",
      "The image presents a comprehensive invoice document, detailing various aspects of a business transaction. Here's a breakdown of the key components:\n",
      "\n",
      "**Header Section**\n",
      "\n",
      "*   **Invoice Number**: The invoice number is not visible in the provided image.\n",
      "*   **Account Information**: The account information section includes:\n",
      "    *   **Account Number**: PAT20-32\n",
      "    *   **Invoice Number**: 6312\n",
      "\n",
      "**Customer Information**\n",
      "\n",
      "*   **Name**: Jamie M. and Tarric W., as well as Yvonne D.\n",
      "\n",
      "**Labor Costs**\n",
      "\n",
      "*   **Hourly Rate**: The hourly rate for each laborer is listed:\n",
      "    *   Jamie M.: $45\n",
      "    *   Tarric W.: $36\n",
      "    *   Yvonne D.: $40\n",
      "\n",
      "**Hours Worked**\n",
      "\n",
      "*   The hours worked by each laborer are also provided:\n",
      "    *   Jamie M.: 82 hours\n",
      "    *   Tarric W.: 68 hours\n",
      "    *   Yvonne D.: 63 hours\n",
      "\n",
      "**Total Labor Cost**\n",
      "\n",
      "*   The total labor cost is calculated as follows:\n",
      "    *   Jamie M.: $45/hour \\* 82 hours = $3,690\n",
      "    *   Tarric W.: $36/hour \\* 68 hours = $2,448\n",
      "    *   Yvonne D.: $40/hour \\* 63 hours = $2,520\n",
      "    *   Total Labor Cost: $8,658\n",
      "\n",
      "**Materials and Supplies**\n",
      "\n",
      "*   The invoice lists several materials and supplies used in the project:\n",
      "    *   30\"x34\" wooden pantry cabinets (3 units)\n",
      "    *   18\"x39\" white quartzite countertop (1 unit)\n",
      "    *   Double handle brass faucet (1 unit)\n",
      "    *   Engineered locking 5\" hand distressed hardwood (25 units)\n",
      "    *   Center-to-center cabinet handles (14 units)\n",
      "    *   Drawer pulls (9 units)\n",
      "    *   Flush mount ceiling light (2 units)\n",
      "    *   W x 7\"H white door keystone (1 unit)\n",
      "    *   Herringbone wallpaper, gray (5 units)\n",
      "    *   Black painted right-handed casement window (1 unit)\n",
      "    *   Hexagon marble tile (1 unit)\n",
      "    *   Aged bronze handleset with accent lever (1 unit)\n",
      "    *   6-light brass chandelier (1 unit)\n",
      "\n",
      "**Unit Costs and Quantities**\n",
      "\n",
      "*   The unit costs and quantities for each material are listed:\n",
      "    *   Pantry cabinets: $590/each, Quantity: 3\n",
      "    *   Countertop: $1,314.20/each, Quantity: 1\n",
      "    *   Faucet: $295/each, Quantity: 1\n",
      "    *   Hand distressed hardwood: $89.10/each, Quantity: 25\n",
      "    *   Center-to-center cabinet handles: $23.95/each, Quantity: 14\n",
      "    *   Drawer pulls: $15.50/each, Quantity: 9\n",
      "    *   Flush mount ceiling light: $285/each, Quantity: 2\n",
      "    *   White door keystone: $49/each, Quantity: 1\n",
      "    *   Herringbone wallpaper: $36.50/each, Quantity: 5\n",
      "    *   Black painted right-handed casement window: $146/each, Quantity: 1\n",
      "    *   Hexagon marble tile: $198/each, Quantity: 1\n",
      "    *   Aged bronze handleset with accent lever: $295.12/each, Quantity: 1\n",
      "    *   6-light brass chandelier: $698/each, Quantity: 1\n",
      "\n",
      "**Subtotal and Total**\n",
      "\n",
      "*   The subtotal is calculated by multiplying the unit cost by the quantity for each material:\n",
      "    *   Subtotal: $10,087.52\n",
      "*   The total amount due is also listed at the bottom of the invoice.\n",
      "\n",
      "In summary, this invoice document outlines the costs associated with a business transaction involving labor and materials. It provides detailed information about the specific items used in the project, their respective prices, and the quantities required. The subtotal and total amounts are clearly stated, making it easy to calculate the overall cost of the project.\n"
     ]
    }
   ],
   "source": [
    "response = ollama.chat(\n",
    "    model='llama3.2-vision',\n",
    "    messages=[{\n",
    "        'role': 'user',\n",
    "        'content': 'Describe What is in this image?',\n",
    "        'images': ['./images/inovice_2.jpg']\n",
    "    }]\n",
    ")\n",
    "\n",
    "print(response['message']['content'])"
   ]
  },
  {
   "cell_type": "code",
   "execution_count": 9,
   "id": "7bce187c-49d9-4ecd-a0fe-a8e46a688718",
   "metadata": {},
   "outputs": [
    {
     "name": "stdout",
     "output_type": "stream",
     "text": [
      "The image showcases a vibrant collage of characters from the popular anime series Dragon Ball Super, set against a clean white background. The central figure is Goku, depicted with his iconic spiky black hair and orange gi, grasping a sword in one hand and a staff in the other.\n",
      "\n",
      "Surrounding Goku are various other characters from the show, including Vegeta, Trunks, Gohan, Gotenks, Piccolo, Tenshinhan, Yamcha, Krillin, and Bulma. Each character is uniquely dressed in their signature attire, adding to the visual appeal of the image.\n",
      "\n",
      "The overall design of the image suggests that it may be a promotional poster or cover art for an episode or special feature of Dragon Ball Super. The use of bright colors and dynamic poses creates a sense of energy and action, drawing the viewer's attention to the exciting world of Dragon Ball Super.\n"
     ]
    }
   ],
   "source": [
    "response = ollama.chat(\n",
    "    model='llama3.2-vision',\n",
    "    messages=[{\n",
    "        'role': 'user',\n",
    "        'content': 'Describe What is in this image?',\n",
    "        'images': ['./images/db.jpg']\n",
    "    }]\n",
    ")\n",
    "\n",
    "print(response['message']['content'])"
   ]
  },
  {
   "cell_type": "code",
   "execution_count": null,
   "id": "fe272e6c-dd63-4cff-af0a-c44fc2fad0a3",
   "metadata": {},
   "outputs": [],
   "source": []
  }
 ],
 "metadata": {
  "kernelspec": {
   "display_name": "Python 3 (ipykernel)",
   "language": "python",
   "name": "python3"
  },
  "language_info": {
   "codemirror_mode": {
    "name": "ipython",
    "version": 3
   },
   "file_extension": ".py",
   "mimetype": "text/x-python",
   "name": "python",
   "nbconvert_exporter": "python",
   "pygments_lexer": "ipython3",
   "version": "3.11.11"
  }
 },
 "nbformat": 4,
 "nbformat_minor": 5
}
